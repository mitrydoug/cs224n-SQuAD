{
 "cells": [
  {
   "cell_type": "code",
   "execution_count": 3,
   "metadata": {},
   "outputs": [],
   "source": [
    "import json\n",
    "import os\n",
    "\n",
    "from matplotlib import pyplot as plt\n",
    "import numpy as np\n",
    "import pandas as pd\n",
    "\n",
    "os.chdir('../code')\n",
    "import evaluate\n",
    "os.chdir('..')\n",
    "\n",
    "%matplotlib inline"
   ]
  },
  {
   "cell_type": "code",
   "execution_count": 4,
   "metadata": {},
   "outputs": [],
   "source": [
    "with open('data/dev-v1.1.json', 'r') as f:\n",
    "    devdata = json.load(f)['data']"
   ]
  },
  {
   "cell_type": "code",
   "execution_count": 5,
   "metadata": {},
   "outputs": [],
   "source": [
    "with open('predictions.json', 'r') as f:\n",
    "    predictions = json.load(f)"
   ]
  },
  {
   "cell_type": "markdown",
   "metadata": {},
   "source": [
    "### Main Analysis Loop"
   ]
  },
  {
   "cell_type": "code",
   "execution_count": 16,
   "metadata": {},
   "outputs": [],
   "source": [
    "data = []\n",
    "for article in devdata:\n",
    "    for paragraph in article['paragraphs']:\n",
    "        for question in paragraph['qas']:\n",
    "            row_data = dict()\n",
    "            row_data['Qid'] = question['id']\n",
    "            if row_data['Qid'] not in predictions:\n",
    "                row_data['Missing'] = True\n",
    "            else:\n",
    "                ground_truths = list(map(lambda x: x['text'], question['answers']))\n",
    "                prediction = predictions[row_data['Qid']]\n",
    "                question_raw(row_data, question)\n",
    "                question_type(row_data, question)\n",
    "                question_length(row_data, question)\n",
    "                paragraph_length(row_data, paragraph)\n",
    "                prediction_length(row_data, prediction)\n",
    "                answer_length(row_data, question)\n",
    "                exact_match(row_data, question, prediction, ground_truths)\n",
    "                f1(row_data, question, prediction, ground_truths)\n",
    "                align_error_type(row_data, paragraph, question, prediction)\n",
    "            data.append(row_data)\n",
    "df = pd.DataFrame(data)"
   ]
  },
  {
   "cell_type": "markdown",
   "metadata": {},
   "source": [
    "### Each function defines a different analysis datapoint"
   ]
  },
  {
   "cell_type": "code",
   "execution_count": 7,
   "metadata": {},
   "outputs": [],
   "source": [
    "def question_raw(row_data, question):\n",
    "    row_data['QText'] = question['question']"
   ]
  },
  {
   "cell_type": "code",
   "execution_count": 8,
   "metadata": {},
   "outputs": [],
   "source": [
    "def question_type(row_data, question):\n",
    "    if 'who' in question['question'].lower():\n",
    "        row_data['QType'] = 'WHO'\n",
    "    elif 'what' in question['question'].lower():\n",
    "        row_data['QType'] = 'WHAT'\n",
    "    elif 'which' in question['question'].lower():\n",
    "        row_data['QType'] = 'WHICH'\n",
    "    elif 'where' in question['question'].lower():\n",
    "        row_data['QType'] = 'WHERE'\n",
    "    elif 'when' in question['question'].lower():\n",
    "        row_data['QType'] = 'WHEN'\n",
    "    elif 'why' in question['question'].lower():\n",
    "        row_data['QType'] = 'WHY'\n",
    "    elif 'how' in question['question'].lower():\n",
    "        row_data['QType'] = 'HOW'\n",
    "    elif 'or' in question['question'].lower():\n",
    "        row_data['QType'] = 'OPTION'\n",
    "    else:\n",
    "        row_data['QType'] = 'OTHER'"
   ]
  },
  {
   "cell_type": "code",
   "execution_count": 9,
   "metadata": {},
   "outputs": [],
   "source": [
    "def exact_match(row_data, question, prediction, ground_truths):\n",
    "    row_data['exact_match'] = (\n",
    "        evaluate.metric_max_over_ground_truths(\n",
    "            evaluate.exact_match_score, prediction['text'], ground_truths) > 0)"
   ]
  },
  {
   "cell_type": "code",
   "execution_count": 10,
   "metadata": {},
   "outputs": [],
   "source": [
    "def f1(row_data, question, prediction, ground_truths):\n",
    "    row_data['f1'] = (\n",
    "        evaluate.metric_max_over_ground_truths(\n",
    "            evaluate.f1_score, prediction['text'], ground_truths))"
   ]
  },
  {
   "cell_type": "code",
   "execution_count": 11,
   "metadata": {},
   "outputs": [],
   "source": [
    "def align_error_type(row_data, paragraph, question, prediction):\n",
    "    f1, closest_gt = max([(evaluate.f1_score(prediction['text'], ans['text']), ans)\n",
    "                          for ans in question['answers']])\n",
    "    if f1 == 0:\n",
    "        row_data['align_error'] = 'X'\n",
    "        return\n",
    "    if f1 == 1:\n",
    "        row_data['align_error'] = '| |'\n",
    "        return\n",
    "    qt_start = closest_gt['answer_start']\n",
    "    qt_end = qt_start + len(closest_gt['text'].split()) - 1\n",
    "    pred_start = prediction['pred_start']\n",
    "    pred_end = pred_start + len(prediction['text'].split()) - 1\n",
    "    if pred_start == -1 or qt_start == -1:\n",
    "        row_data['align_error'] = 'bad'\n",
    "        return\n",
    "    pref = '< ' if pred_start < qt_start else '> ' if pred_start > qt_start else '| '\n",
    "    suff = ' <' if pred_end < qt_end else ' >' if pred_end > qt_end else ' |'\n",
    "    row_data['align_error'] = pref + suff"
   ]
  },
  {
   "cell_type": "code",
   "execution_count": 12,
   "metadata": {},
   "outputs": [],
   "source": [
    "def question_length(row_data, question):\n",
    "    row_data['question_len'] = len(question['question'].split(' '))"
   ]
  },
  {
   "cell_type": "code",
   "execution_count": 13,
   "metadata": {},
   "outputs": [],
   "source": [
    "def paragraph_length(row_data, paragraph):\n",
    "    row_data['context_len'] = len(paragraph['context'].split(' '))"
   ]
  },
  {
   "cell_type": "code",
   "execution_count": 14,
   "metadata": {},
   "outputs": [],
   "source": [
    "def answer_length(row_data, question):\n",
    "    row_data['answer_len'] = len(np.random.choice(question['answers'])['text'].split())"
   ]
  },
  {
   "cell_type": "code",
   "execution_count": 15,
   "metadata": {},
   "outputs": [],
   "source": [
    "def prediction_length(row_data, prediction):\n",
    "    row_data['pred_len'] = len(evaluate.normalize_answer(prediction['text']).split())"
   ]
  },
  {
   "cell_type": "markdown",
   "metadata": {},
   "source": [
    "### Analysis of Result"
   ]
  },
  {
   "cell_type": "markdown",
   "metadata": {},
   "source": [
    "##### 1. Who / What / Where / When / Why / How"
   ]
  },
  {
   "cell_type": "code",
   "execution_count": 23,
   "metadata": {},
   "outputs": [
    {
     "data": {
      "text/html": [
       "<div>\n",
       "<style scoped>\n",
       "    .dataframe tbody tr th:only-of-type {\n",
       "        vertical-align: middle;\n",
       "    }\n",
       "\n",
       "    .dataframe tbody tr th {\n",
       "        vertical-align: top;\n",
       "    }\n",
       "\n",
       "    .dataframe thead th {\n",
       "        text-align: right;\n",
       "    }\n",
       "</style>\n",
       "<table border=\"1\" class=\"dataframe\">\n",
       "  <thead>\n",
       "    <tr style=\"text-align: right;\">\n",
       "      <th></th>\n",
       "      <th>Total</th>\n",
       "      <th>TotalFrac</th>\n",
       "      <th>ExactMatch</th>\n",
       "      <th>ExactMatchFrac</th>\n",
       "      <th>F1_Mean</th>\n",
       "    </tr>\n",
       "  </thead>\n",
       "  <tbody>\n",
       "    <tr>\n",
       "      <th>WHAT</th>\n",
       "      <td>5938</td>\n",
       "      <td>0.561779</td>\n",
       "      <td>3762</td>\n",
       "      <td>0.633547</td>\n",
       "      <td>0.742184</td>\n",
       "    </tr>\n",
       "    <tr>\n",
       "      <th>WHO</th>\n",
       "      <td>1377</td>\n",
       "      <td>0.130274</td>\n",
       "      <td>976</td>\n",
       "      <td>0.708787</td>\n",
       "      <td>0.774868</td>\n",
       "    </tr>\n",
       "    <tr>\n",
       "      <th>HOW</th>\n",
       "      <td>1165</td>\n",
       "      <td>0.110218</td>\n",
       "      <td>782</td>\n",
       "      <td>0.671245</td>\n",
       "      <td>0.765036</td>\n",
       "    </tr>\n",
       "    <tr>\n",
       "      <th>WHEN</th>\n",
       "      <td>700</td>\n",
       "      <td>0.066225</td>\n",
       "      <td>587</td>\n",
       "      <td>0.838571</td>\n",
       "      <td>0.875219</td>\n",
       "    </tr>\n",
       "    <tr>\n",
       "      <th>WHICH</th>\n",
       "      <td>679</td>\n",
       "      <td>0.064238</td>\n",
       "      <td>465</td>\n",
       "      <td>0.684831</td>\n",
       "      <td>0.775562</td>\n",
       "    </tr>\n",
       "    <tr>\n",
       "      <th>WHERE</th>\n",
       "      <td>471</td>\n",
       "      <td>0.044560</td>\n",
       "      <td>293</td>\n",
       "      <td>0.622081</td>\n",
       "      <td>0.741460</td>\n",
       "    </tr>\n",
       "    <tr>\n",
       "      <th>WHY</th>\n",
       "      <td>150</td>\n",
       "      <td>0.014191</td>\n",
       "      <td>65</td>\n",
       "      <td>0.433333</td>\n",
       "      <td>0.696251</td>\n",
       "    </tr>\n",
       "    <tr>\n",
       "      <th>OPTION</th>\n",
       "      <td>51</td>\n",
       "      <td>0.004825</td>\n",
       "      <td>17</td>\n",
       "      <td>0.333333</td>\n",
       "      <td>0.634620</td>\n",
       "    </tr>\n",
       "    <tr>\n",
       "      <th>OTHER</th>\n",
       "      <td>39</td>\n",
       "      <td>0.003690</td>\n",
       "      <td>17</td>\n",
       "      <td>0.435897</td>\n",
       "      <td>0.616582</td>\n",
       "    </tr>\n",
       "  </tbody>\n",
       "</table>\n",
       "</div>"
      ],
      "text/plain": [
       "        Total  TotalFrac  ExactMatch  ExactMatchFrac   F1_Mean\n",
       "WHAT     5938   0.561779        3762        0.633547  0.742184\n",
       "WHO      1377   0.130274         976        0.708787  0.774868\n",
       "HOW      1165   0.110218         782        0.671245  0.765036\n",
       "WHEN      700   0.066225         587        0.838571  0.875219\n",
       "WHICH     679   0.064238         465        0.684831  0.775562\n",
       "WHERE     471   0.044560         293        0.622081  0.741460\n",
       "WHY       150   0.014191          65        0.433333  0.696251\n",
       "OPTION     51   0.004825          17        0.333333  0.634620\n",
       "OTHER      39   0.003690          17        0.435897  0.616582"
      ]
     },
     "execution_count": 23,
     "metadata": {},
     "output_type": "execute_result"
    }
   ],
   "source": [
    "# DISTRIBUTION OF QUESTION TYPES FOR ALL QUESTIONS IN THE DEV SET\n",
    "table_1 = df.QType.value_counts().to_frame()\n",
    "table_1.columns = ['Total']\n",
    "table_1['TotalFrac'] = table_1.Total / table_1.Total.sum()\n",
    "# DISTRIBUTION OF CORRECT PREDICTIONS BY QUESTION TYPE\n",
    "table_1['ExactMatch'] = df.groupby('QType')['exact_match'].sum().astype('int')\n",
    "table_1['ExactMatchFrac'] = table_1['ExactMatch'] / df.QType.value_counts()\n",
    "#table_1['ExactMatchContrib'] = table_1['TotalFrac'] * table_1['ExactMatchFrac']\n",
    "table_1['F1_Mean'] = df.groupby('QType')['f1'].mean()\n",
    "table_1"
   ]
  },
  {
   "cell_type": "code",
   "execution_count": 27,
   "metadata": {},
   "outputs": [
    {
     "data": {
      "image/png": "[encoded data removed]",
      "text/plain": [
       "<matplotlib.figure.Figure at 0x110be04d0>"
      ]
     },
     "metadata": {},
     "output_type": "display_data"
    }
   ],
   "source": [
    "table_1[['Total', 'ExactMatch']].drop(['OPTION', 'OTHER']).plot.bar()\n",
    "plt.title('Model Performance by Question Type')\n",
    "plt.ylabel('Count');"
   ]
  },
  {
   "cell_type": "markdown",
   "metadata": {},
   "source": [
    "Lol, what are the \"other\" questions? \"To whom ...\"?"
   ]
  },
  {
   "cell_type": "code",
   "execution_count": 67,
   "metadata": {
    "scrolled": true
   },
   "outputs": [
    {
     "data": {
      "text/plain": [
       "28              The name of the NFL championship game is?\n",
       "196       Whic Carolina Panthers running back was waived?\n",
       "1252              Did Tesla graduate from the university?\n",
       "1893    Name a text that might be used by a religious ...\n",
       "2884    Can BSkyB veto the presence of channels on the...\n",
       "2885    Does BSkyB carry any control over a channels c...\n",
       "2886    Does BSkyB carry any control over the picture ...\n",
       "2908    Does the new deal include Video on demand and ...\n",
       "3222    The practice of occupying and looting Huguenot...\n",
       "3483       Oxygen is released in cellular respiration by?\n",
       "Name: QText, dtype: object"
      ]
     },
     "execution_count": 67,
     "metadata": {},
     "output_type": "execute_result"
    }
   ],
   "source": [
    "df[df.QType == 'OTHER'].QText.head(10)"
   ]
  },
  {
   "cell_type": "markdown",
   "metadata": {},
   "source": [
    "Okay, we'll let these slide..."
   ]
  },
  {
   "cell_type": "markdown",
   "metadata": {},
   "source": [
    "##### 2. Align Errors"
   ]
  },
  {
   "cell_type": "markdown",
   "metadata": {},
   "source": [
    "Ignore this for now, this is being a real pain."
   ]
  },
  {
   "cell_type": "code",
   "execution_count": 160,
   "metadata": {},
   "outputs": [
    {
     "data": {
      "text/plain": [
       "| |     6964\n",
       "X       1674\n",
       "<  <     701\n",
       ">  >     697\n",
       "|  >     214\n",
       "|  <     181\n",
       ">  <      43\n",
       "<  >      41\n",
       "bad       20\n",
       ">  |      17\n",
       "<  |      11\n",
       "|  |       7\n",
       "Name: align_error, dtype: int64"
      ]
     },
     "execution_count": 160,
     "metadata": {},
     "output_type": "execute_result"
    }
   ],
   "source": [
    "df.align_error.value_counts()"
   ]
  },
  {
   "cell_type": "markdown",
   "metadata": {},
   "source": [
    "##### 3. Question / Paragraph / Prediction Length Considerations"
   ]
  },
  {
   "cell_type": "code",
   "execution_count": 189,
   "metadata": {},
   "outputs": [
    {
     "data": {
      "image/png": "[encoded data removed]",
      "text/plain": [
       "<matplotlib.figure.Figure at 0x1165cffd0>"
      ]
     },
     "metadata": {},
     "output_type": "display_data"
    }
   ],
   "source": [
    "df.context_len.hist(bins=50, alpha=1., log=True, label='All')\n",
    "df[df.exact_match].context_len.hist(bins=50, alpha=1., log=True, label='Correct').legend();"
   ]
  },
  {
   "cell_type": "markdown",
   "metadata": {},
   "source": [
    "**Summary:** We score just about the same fraction of predictions correct regardless of context length."
   ]
  },
  {
   "cell_type": "code",
   "execution_count": 184,
   "metadata": {},
   "outputs": [
    {
     "data": {
      "image/png": "[encoded data removed]",
      "text/plain": [
       "<matplotlib.figure.Figure at 0x117183250>"
      ]
     },
     "metadata": {},
     "output_type": "display_data"
    }
   ],
   "source": [
    "df.question_len.hist(bins=29, alpha=1., log=True, label='All')\n",
    "df[df.exact_match].question_len.hist(bins=29, alpha=1., log=True, label='Correct').legend();"
   ]
  },
  {
   "cell_type": "markdown",
   "metadata": {},
   "source": [
    "**Summary:** Our model struggles with small questions ( < 7 words) and very large questions ( > 27 words). Are sweet spot is 10-20 words."
   ]
  },
  {
   "cell_type": "code",
   "execution_count": 32,
   "metadata": {},
   "outputs": [
    {
     "data": {
      "image/png": "[encoded data removed]",
      "text/plain": [
       "<matplotlib.figure.Figure at 0x110f6f210>"
      ]
     },
     "metadata": {},
     "output_type": "display_data"
    }
   ],
   "source": [
    "np.log2(df.answer_len).hist(bins=28, log=True, alpha=0.5, label='Correct Len', color='r')\n",
    "np.log2(df.pred_len).hist(bins=28, log=True, alpha=0.5, label='Predicted Len', color='b').legend();"
   ]
  },
  {
   "cell_type": "code",
   "execution_count": null,
   "metadata": {},
   "outputs": [],
   "source": []
  }
 ],
 "metadata": {
  "kernelspec": {
   "display_name": "Python 2",
   "language": "python",
   "name": "python2"
  },
  "language_info": {
   "codemirror_mode": {
    "name": "ipython",
    "version": 2
   },
   "file_extension": ".py",
   "mimetype": "text/x-python",
   "name": "python",
   "nbconvert_exporter": "python",
   "pygments_lexer": "ipython2",
   "version": "2.7.14"
  }
 },
 "nbformat": 4,
 "nbformat_minor": 2
}
